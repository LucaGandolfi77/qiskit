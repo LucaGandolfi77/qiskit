{
 "cells": [
  {
   "cell_type": "markdown",
   "id": "dc9e725796d7352e",
   "metadata": {
    "collapsed": false,
    "jupyter": {
     "outputs_hidden": false
    }
   },
   "source": [
    "### Import necessary libraries\n",
    "\n",
    "- Import necessary libraries: networkx, matplotlib.pyplot, numpy, seaborn, and pyvis.network."
   ]
  },
  {
   "cell_type": "code",
   "execution_count": 29,
   "id": "206bdc2f89a0f22",
   "metadata": {
    "collapsed": false,
    "jupyter": {
     "outputs_hidden": false
    }
   },
   "outputs": [],
   "source": [
    "import networkx as nx\n",
    "import matplotlib.pyplot as plt\n",
    "import numpy as np\n",
    "import seaborn as sns\n",
    "from pyvis.network import Network"
   ]
  },
  {
   "cell_type": "markdown",
   "id": "7f2a2eea411f2f32",
   "metadata": {
    "collapsed": false,
    "jupyter": {
     "outputs_hidden": false
    }
   },
   "source": [
    "### Optional function to get an interactive graph"
   ]
  },
  {
   "cell_type": "code",
   "execution_count": 30,
   "id": "8ef30b64-497c-41c9-9f70-e9ce8f79bd55",
   "metadata": {
    "ExecuteTime": {
     "end_time": "2024-05-11T13:08:58.613647700Z",
     "start_time": "2024-05-11T13:08:58.607488Z"
    }
   },
   "outputs": [],
   "source": [
    "def make_interacting_graph(G : nx.graph):\n",
    "    g = Network(height=800, width=800, notebook=True, cdn_resources='remote', directed =True)\n",
    "    g.barnes_hut()\n",
    "    \n",
    "    # Add nodes to the network\n",
    "    for node in G.nodes:\n",
    "        node_name = str(node)  # Convert node to string if it's not already\n",
    "        g.add_node(node, label=node_name, size=50, title=node_name, font={'size' : 50})\n",
    "    \n",
    "    # Add edges to the network\n",
    "    for edge in G.edges:\n",
    "        src, dst, action, reward = edge[0], edge[1], G.edges[edge]['action'], G.edges[edge]['reward']\n",
    "        g.add_edge(src, dst, label=f\"Action : {action} \\n Reward : {reward}\", font={'size': 50})\n",
    "\n",
    "    return g"
   ]
  },
  {
   "cell_type": "markdown",
   "id": "5735fa9dac7f52fc",
   "metadata": {
    "collapsed": false,
    "jupyter": {
     "outputs_hidden": false
    }
   },
   "source": [
    "### Define here: States, reward and transition probability matrix\n",
    "\n",
    "- Define the states and rewards for each state.\n",
    "- Define the transition probabilities between states.\n"
   ]
  },
  {
   "cell_type": "code",
   "execution_count": 31,
   "id": "9ade8c41a50c5510",
   "metadata": {
    "ExecuteTime": {
     "end_time": "2024-05-11T13:13:07.046841400Z",
     "start_time": "2024-05-11T13:13:07.026808Z"
    },
    "collapsed": false,
    "jupyter": {
     "outputs_hidden": false
    }
   },
   "outputs": [],
   "source": [
    "# Define the states\n",
    "states = ['subject1', 'subject2','subject3','pass','instagram','bar','sleep']\n",
    "\n",
    "# Define the rewards for each state\n",
    "rewards = {\n",
    "    'subject1': {-2},\n",
    "    'subject2': {-2},\n",
    "    'subject3': {-2},\n",
    "    'pass': {10},\n",
    "    'instagram': {-1},\n",
    "    'bar': {1},\n",
    "    'sleep': {0},\n",
    "}\n",
    "\n",
    "# Define the transition probabilities explicitly\n",
    "transition_probs = {\n",
    "    ('instagram', 'instagram'): 0.9,\n",
    "    ('instagram', 'subject1'): 0.1,\n",
    "    ('subject1', 'subject2'): 0.5,\n",
    "    ('subject1', 'instagram'): 0.5,\n",
    "    ('subject2', 'sleep'): 0.2,\n",
    "    ('subject2', 'subject3'): 0.8,\n",
    "    ('subject3', 'pass'): 0.6,\n",
    "    ('subject3', 'bar'): 0.4,\n",
    "    ('bar', 'subject1'): 0.2,\n",
    "    ('bar', 'subject2'): 0.4,\n",
    "    ('bar', 'subject3'): 0.4,\n",
    "    ('pass', 'sleep'): 1,\n",
    "}"
   ]
  },
  {
   "cell_type": "markdown",
   "id": "687c8039c5fd27a3",
   "metadata": {
    "collapsed": false,
    "jupyter": {
     "outputs_hidden": false
    }
   },
   "source": [
    "## Use seaborn to plot the transition probability matrix\n",
    "\n",
    "### Expected Output\n",
    " - Compute the transition matrix based on the defined transition probabilities\n",
    " - Plot the transition matrix using seaborn.heatmap()\n",
    "\n",
    "![alt text](Transition_prob_matrix.png \"Title\")\n"
   ]
  },
  {
   "cell_type": "code",
   "execution_count": 91,
   "id": "c78acbd75c54ab0d",
   "metadata": {
    "ExecuteTime": {
     "end_time": "2024-05-11T13:13:08.138452800Z",
     "start_time": "2024-05-11T13:13:07.777234300Z"
    },
    "collapsed": false,
    "jupyter": {
     "outputs_hidden": false
    }
   },
   "outputs": [
    {
     "name": "stdout",
     "output_type": "stream",
     "text": [
      "[[0. 0. 0. 0. 0. 0. 0.]\n",
      " [0. 0. 0. 0. 0. 0. 0.]\n",
      " [0. 0. 0. 0. 0. 0. 0.]\n",
      " [0. 0. 0. 0. 0. 0. 0.]\n",
      " [0. 0. 0. 0. 0. 0. 0.]\n",
      " [0. 0. 0. 0. 0. 0. 0.]\n",
      " [0. 0. 0. 0. 0. 0. 0.]]\n",
      "{0: 'subject1', 1: 'subject2', 2: 'subject3', 3: 'pass', 4: 'instagram', 5: 'bar', 6: 'sleep'}\n",
      "<class 'dict'>\n",
      "Keys: [('instagram', 'instagram'), ('instagram', 'subject1'), ('subject1', 'subject2'), ('subject1', 'instagram'), ('subject2', 'sleep'), ('subject2', 'subject3'), ('subject3', 'pass'), ('subject3', 'bar'), ('bar', 'subject1'), ('bar', 'subject2'), ('bar', 'subject3'), ('pass', 'sleep')]\n",
      "<generator object <genexpr> at 0x7f78c9a7d660>\n",
      "Values: [0.9, 0.1, 0.5, 0.5, 0.2, 0.8, 0.6, 0.4, 0.2, 0.4, 0.4, 1]\n",
      "Keys and Values:\n",
      "{('instagram', 'instagram'): 0.9, ('instagram', 'subject1'): 0.1, ('subject1', 'subject2'): 0.5, ('subject1', 'instagram'): 0.5, ('subject2', 'sleep'): 0.2, ('subject2', 'subject3'): 0.8, ('subject3', 'pass'): 0.6, ('subject3', 'bar'): 0.4, ('bar', 'subject1'): 0.2, ('bar', 'subject2'): 0.4, ('bar', 'subject3'): 0.4, ('pass', 'sleep'): 1}\n",
      "['instagram', 'instagram', 'subject1', 'subject1', 'subject2', 'subject2', 'subject3', 'subject3', 'bar', 'bar', 'bar', 'pass']\n",
      "['instagram', 'subject1', 'subject2', 'instagram', 'sleep', 'subject3', 'pass', 'bar', 'subject1', 'subject2', 'subject3', 'sleep']\n",
      "a: instagram\n",
      "Putting 2 in [ 0 ][ 0 ]\n",
      "Putting 2 in [ 0 ][ 3 ]\n",
      "a: instagram\n",
      "Putting 2 in [ 1 ][ 0 ]\n",
      "Putting 2 in [ 1 ][ 3 ]\n",
      "a: instagram\n",
      "Putting 2 in [ 0 ][ 1 ]\n",
      "a: instagram\n",
      "Putting 2 in [ 1 ][ 1 ]\n",
      "a: subject1\n",
      "Putting 2 in [ 2 ][ 2 ]\n",
      "a: subject1\n",
      "Putting 2 in [ 3 ][ 2 ]\n",
      "a: subject1\n",
      "Putting 2 in [ 2 ][ 0 ]\n",
      "Putting 2 in [ 2 ][ 3 ]\n",
      "a: subject1\n",
      "Putting 2 in [ 3 ][ 0 ]\n",
      "Putting 2 in [ 3 ][ 3 ]\n",
      "a: subject2\n",
      "Putting 2 in [ 4 ][ 4 ]\n",
      "a: subject2\n",
      "Putting 2 in [ 5 ][ 4 ]\n",
      "a: subject2\n",
      "Putting 2 in [ 4 ][ 5 ]\n",
      "a: subject2\n",
      "Putting 2 in [ 5 ][ 5 ]\n",
      "a: subject3\n",
      "Putting 2 in [ 6 ][ 6 ]\n",
      "a: subject3\n",
      "[[2. 2. 0. 2. 0. 0. 0.]\n",
      " [2. 2. 0. 2. 0. 0. 0.]\n",
      " [2. 0. 2. 2. 0. 0. 0.]\n",
      " [2. 0. 2. 2. 0. 0. 0.]\n",
      " [0. 0. 0. 0. 2. 2. 0.]\n",
      " [0. 0. 0. 0. 2. 2. 0.]\n",
      " [0. 0. 0. 0. 0. 0. 2.]]\n"
     ]
    }
   ],
   "source": [
    "# Define the state transition probabilities\n",
    "#...\n",
    "data = np.zeros((7,7))\n",
    "print(data)\n",
    "\n",
    "col1 = []\n",
    "col2 = []\n",
    "my_dict = {}\n",
    "\n",
    "for i, e in enumerate(states):\n",
    "    my_dict[i] = e\n",
    "\n",
    "print(my_dict)\n",
    "\n",
    "print(type(transition_probs))\n",
    "#print(transition_probs[list(transition_probs.keys())[0]])\n",
    "#print(transition_probs[list(transition_probs.values())[0]])\n",
    "print(\"Keys:\", list(transition_probs.keys()))\n",
    "\n",
    "print(tuple(k) for k in transition_probs.values())\n",
    "\n",
    "# Print values\n",
    "print(\"Values:\", (list(transition_probs.values())))\n",
    " \n",
    "# Print both keys and values\n",
    "print(\"Keys and Values:\")\n",
    "print(transition_probs)\n",
    "\n",
    "for value,key in transition_probs.items():\n",
    "    col1.append(value[0])\n",
    "    col2.append(value[1])\n",
    "\n",
    "print(col1)\n",
    "print(col2)\n",
    "# Assign transition probabilities based on the defined transitions\n",
    "#...\n",
    "for index in transition_probs:\n",
    "    for a in range (0,7):\n",
    "        if index[0] == col1[a]:\n",
    "            print(\"a:\",col1[a])\n",
    "            for b in range (0,7):\n",
    "                if index[1] == col2[b]:\n",
    "                    data[a][b] = 2\n",
    "                    print(\"Putting 2 in [\",a,\"][\",b,\"]\")\n",
    "\n",
    "print(data)\n",
    "# Plot the transition matrix\n"
   ]
  },
  {
   "cell_type": "markdown",
   "id": "50d4fe9fb23eabb2",
   "metadata": {
    "collapsed": false,
    "jupyter": {
     "outputs_hidden": false
    }
   },
   "source": [
    "## Building the graph\n",
    "\n",
    "- Create a directed graph using nx.DiGraph().\n",
    "- Add nodes to the graph for each state.\n",
    "- Add edges to represent transitions between states, including associated actions and rewards.\n",
    "\n",
    "### Expected Output\n",
    "![alt text](Graph.png \"Title\")\n",
    "\n"
   ]
  },
  {
   "cell_type": "code",
   "execution_count": 27,
   "id": "cce68bef2a604c69",
   "metadata": {
    "ExecuteTime": {
     "end_time": "2024-05-11T13:13:09.288734200Z",
     "start_time": "2024-05-11T13:13:08.957552600Z"
    },
    "collapsed": false,
    "jupyter": {
     "outputs_hidden": false
    }
   },
   "outputs": [
    {
     "data": {
      "text/plain": [
       "<Figure size 1200x800 with 0 Axes>"
      ]
     },
     "metadata": {},
     "output_type": "display_data"
    },
    {
     "name": "stdout",
     "output_type": "stream",
     "text": [
      "graph.html\n"
     ]
    },
    {
     "data": {
      "text/html": [
       "\n",
       "        <iframe\n",
       "            width=\"800\"\n",
       "            height=\"800\"\n",
       "            src=\"graph.html\"\n",
       "            frameborder=\"0\"\n",
       "            allowfullscreen\n",
       "            \n",
       "        ></iframe>\n",
       "        "
      ],
      "text/plain": [
       "<IPython.lib.display.IFrame at 0x7f78ca39c580>"
      ]
     },
     "execution_count": 27,
     "metadata": {},
     "output_type": "execute_result"
    }
   ],
   "source": [
    "# Create a directed graph\n",
    "G = nx.DiGraph()\n",
    "\n",
    "# Add nodes and edges to the graph\n",
    "\n",
    "\n",
    "# Draw the graph\n",
    "plt.figure(figsize=(12, 8))\n",
    "pos = nx.spring_layout(G, seed=42)  # Define layout for visualization\n",
    "#Hint: See networkx draw and draw_networkx_edge_lables_documentation\n",
    "plt.show()\n",
    "\n",
    "\n",
    "make_interacting_graph(G).show(\"graph.html\")"
   ]
  },
  {
   "cell_type": "markdown",
   "id": "968dc3ae414c4b01",
   "metadata": {
    "collapsed": false,
    "jupyter": {
     "outputs_hidden": false
    }
   },
   "source": [
    "## Computing Value Functions:\n",
    " - Define the discount factor.\n",
    " - Use the Bellman equation to compute the value function of each state.\n"
   ]
  },
  {
   "cell_type": "code",
   "execution_count": 22,
   "id": "70633987efbadebf",
   "metadata": {
    "ExecuteTime": {
     "end_time": "2024-05-11T13:13:11.216572600Z",
     "start_time": "2024-05-11T13:13:11.210292700Z"
    },
    "collapsed": false,
    "jupyter": {
     "outputs_hidden": false
    }
   },
   "outputs": [
    {
     "ename": "NameError",
     "evalue": "name 'transition_matrix' is not defined",
     "output_type": "error",
     "traceback": [
      "\u001b[0;31m---------------------------------------------------------------------------\u001b[0m",
      "\u001b[0;31mNameError\u001b[0m                                 Traceback (most recent call last)",
      "Cell \u001b[0;32mIn[22], line 1\u001b[0m\n\u001b[0;32m----> 1\u001b[0m identity \u001b[38;5;241m=\u001b[39m np\u001b[38;5;241m.\u001b[39meye(\u001b[38;5;28mlen\u001b[39m(\u001b[43mtransition_matrix\u001b[49m))\n\u001b[1;32m      2\u001b[0m discount_factor \u001b[38;5;241m=\u001b[39m \u001b[38;5;241m0\u001b[39m\n\u001b[1;32m      3\u001b[0m V \u001b[38;5;241m=\u001b[39m np\u001b[38;5;241m.\u001b[39mmatmul()\n",
      "\u001b[0;31mNameError\u001b[0m: name 'transition_matrix' is not defined"
     ]
    }
   ],
   "source": [
    "identity = np.eye(len(transition_matrix))\n",
    "discount_factor = 0\n",
    "V = np.matmul()"
   ]
  },
  {
   "cell_type": "markdown",
   "id": "97190f210d9e03d6",
   "metadata": {
    "collapsed": false,
    "jupyter": {
     "outputs_hidden": false
    }
   },
   "source": [
    "## Visualizing the Graph with Value Functions:\n",
    "- Draw the graph using nx.draw() with appropriate node positions\n",
    "- Annotate each node with its corresponding value function\n",
    "- Annotate each edge with associated actions and rewards\n",
    "\n",
    "### Expected Output\n",
    "\n",
    "![alt text](Value_graph.png \"Title\")"
   ]
  },
  {
   "cell_type": "code",
   "execution_count": null,
   "id": "6258f85d-cbe9-4320-a947-6a035a2b8405",
   "metadata": {
    "ExecuteTime": {
     "end_time": "2024-05-11T13:13:32.388066500Z",
     "start_time": "2024-05-11T13:13:32.072118500Z"
    }
   },
   "outputs": [],
   "source": [
    "# Draw the graph with value functions annotated inside nodes\n",
    "plt.figure(figsize=(12, 8))\n",
    "pos = nx.planar_layout(G)  # Define layout for visualization\n",
    "\n",
    "\n",
    "# Create node labels with formatted value functions\n",
    "\n",
    "# Draw node labels\n",
    "G = nx.relabel_nodes(G, node_labels)\n",
    "\n",
    "# Draw edge labels\n",
    "\n",
    "plt.show()\n",
    "\n",
    "make_interacting_graph(G).show(\"value_graph.html\")"
   ]
  },
  {
   "cell_type": "markdown",
   "id": "c7258525b802f8d7",
   "metadata": {
    "collapsed": false,
    "jupyter": {
     "outputs_hidden": false
    }
   },
   "source": [
    "### Visualizing Value Function Dynamics:\n",
    "- Use matplotlib to visualize how the value function changes with different discount factors.\n",
    "\n",
    "### Expected Output\n",
    "![alt text](Discount_variation.png \"Title\")\n"
   ]
  },
  {
   "cell_type": "code",
   "execution_count": null,
   "id": "4fb454fa-c88d-4f08-b00e-4bcef6dd499f",
   "metadata": {
    "ExecuteTime": {
     "end_time": "2024-05-11T13:21:19.885151200Z",
     "start_time": "2024-05-11T13:21:19.540053700Z"
    }
   },
   "outputs": [],
   "source": [
    "# Computing value functions with different discount factors\n",
    "discount_factors = [0, 0.1, 0.2, 0.3,0.4, 0.5, 0.6, 0.7, 0.8, 0.9]  # Set different discount factors to test\n",
    "for discount_factor in discount_factors:\n",
    "\n",
    "    \n",
    "    # Store the value functions for analysis\n",
    "    \n",
    "\n",
    "# Plotting value functions against discount factors\n",
    "plt.show()"
   ]
  }
 ],
 "metadata": {
  "kernelspec": {
   "display_name": "Python 3 (ipykernel)",
   "language": "python",
   "name": "python3"
  },
  "language_info": {
   "codemirror_mode": {
    "name": "ipython",
    "version": 3
   },
   "file_extension": ".py",
   "mimetype": "text/x-python",
   "name": "python",
   "nbconvert_exporter": "python",
   "pygments_lexer": "ipython3",
   "version": "3.8.10"
  }
 },
 "nbformat": 4,
 "nbformat_minor": 5
}
